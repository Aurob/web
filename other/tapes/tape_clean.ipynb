{
 "cells": [
  {
   "cell_type": "code",
   "execution_count": 1,
   "metadata": {},
   "outputs": [],
   "source": [
    "import json\n",
    "import cv2\n",
    "import numpy as np\n",
    "\n",
    "# Load the image\n",
    "img = cv2.imread('tapes.png')\n"
   ]
  },
  {
   "cell_type": "code",
   "execution_count": 2,
   "metadata": {},
   "outputs": [],
   "source": [
    "tapes = None\n",
    "# Load the annotation data\n",
    "with open('tapes.json', 'r') as f:\n",
    "    tapes = json.load(f)\n"
   ]
  },
  {
   "cell_type": "code",
   "execution_count": 5,
   "metadata": {},
   "outputs": [],
   "source": [
    "\n",
    "# Draw each polygon on the image\n",
    "for box in tapes['boxes']:\n",
    "    pts = np.array(box['points'], dtype=np.int32)\n",
    "    pts = pts.reshape((-1, 1, 2))\n",
    "    cv2.polylines(img, [pts], isClosed=True, color=(0, 255, 0), thickness=2)\n",
    "    # Optionally, show the label\n",
    "    if 'label' in box:\n",
    "        label = box['label']\n",
    "        # Place label at the first point\n",
    "        pt = tuple(pts[0][0])\n",
    "        cv2.putText(img, label, pt, cv2.FONT_HERSHEY_SIMPLEX, 0.7, (0,0,255), 2)\n"
   ]
  },
  {
   "cell_type": "code",
   "execution_count": 7,
   "metadata": {},
   "outputs": [],
   "source": [
    "\n",
    "# Show the image with polygons\n",
    "cv2.imshow('Polygons', img)\n",
    "cv2.waitKey(0)\n",
    "cv2.destroyAllWindows()\n"
   ]
  }
 ],
 "metadata": {
  "kernelspec": {
   "display_name": "Python 3",
   "language": "python",
   "name": "python3"
  },
  "language_info": {
   "codemirror_mode": {
    "name": "ipython",
    "version": 3
   },
   "file_extension": ".py",
   "mimetype": "text/x-python",
   "name": "python",
   "nbconvert_exporter": "python",
   "pygments_lexer": "ipython3",
   "version": "3.11.4"
  }
 },
 "nbformat": 4,
 "nbformat_minor": 2
}
